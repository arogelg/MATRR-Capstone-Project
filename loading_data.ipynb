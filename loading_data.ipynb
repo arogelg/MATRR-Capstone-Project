{
 "cells": [
  {
   "cell_type": "code",
   "execution_count": 29,
   "metadata": {},
   "outputs": [
    {
     "name": "stdout",
     "output_type": "stream",
     "text": [
      "Master file:\n",
      "  Species Cohort MATRR ID  Date of BC      Timepoint    State  TP:  ALB:  \\\n",
      "0    cyno      2    10016   8/17/2005  pre-induction  sedated  7.4   NaN   \n",
      "1    cyno      2    10016    2/6/2006  H2O induction    awake  NaN   NaN   \n",
      "2    cyno      2    10016   3/27/2006  H2O induction  sedated    7   4.2   \n",
      "3    cyno      2    10016  10/26/2006  open access 1  sedated  7.9   4.6   \n",
      "4    cyno      2    10016   4/18/2007  open access 2  sedated    7   4.2   \n",
      "\n",
      "   ALKP:  ALT:  ...  BASO%:  HCT:  HGB:  RBC:  MCV:  MCH:  MCHC:   PLT:  \\\n",
      "0    NaN   NaN  ...     0.7  43.5  14.3  6.05  72.0  23.6   32.9  426.0   \n",
      "1    NaN   NaN  ...     0.7  44.1  14.1  5.90  75.0  23.9   32.0  167.0   \n",
      "2  167.0  45.0  ...     0.8  42.8  13.9  5.73  75.0  24.3   32.5  378.0   \n",
      "3   84.0  37.0  ...     0.5  42.5  13.7  5.66  75.0  24.2   32.2  446.0   \n",
      "4  138.0  25.0  ...     0.9  42.9  13.5  5.63  76.0  24.0   31.5  214.0   \n",
      "\n",
      "   Unnamed: 44        Unnamed: 45  \n",
      "0          NaN  LY% = Lymphocytes  \n",
      "1          NaN                NaN  \n",
      "2          NaN                NaN  \n",
      "3          NaN                NaN  \n",
      "4          NaN                NaN  \n",
      "\n",
      "[5 rows x 46 columns]\n",
      "\n",
      "Biomarker file:\n",
      "        ID Drinking Category Species Sex       Age  Cortisol  ACTH  \\\n",
      "0  10069.0               VHD  Rhesus   F  4.136977       NaN   NaN   \n",
      "1  10070.0               VHD  Rhesus   F  4.117812       NaN   NaN   \n",
      "2  10072.0                LD  Rhesus   F  5.834480       NaN   NaN   \n",
      "3  10073.0               VHD  Rhesus   F  5.629137       NaN   NaN   \n",
      "4  10074.0                LD  Rhesus   F  5.585330       NaN   NaN   \n",
      "\n",
      "   Deoxycorticosterone  Aldosterone  DHEAS  ...  MIFAnalyte_46       IL_1RA  \\\n",
      "0                  NaN          NaN    NaN  ...      92.381481   436.517067   \n",
      "1                  NaN          NaN    NaN  ...      81.748359   495.060658   \n",
      "2                  NaN          NaN    NaN  ...      25.171621  1895.472706   \n",
      "3                  NaN          NaN    NaN  ...      11.968421   377.229597   \n",
      "4                  NaN          NaN    NaN  ...      27.572010  2035.124018   \n",
      "\n",
      "       TNF_a        IL_2     IP_10         MIG      IL_4      IL_8  \\\n",
      "0  31.596474  204.310168  2.293394  303.533753  3.913593  0.290000   \n",
      "1  54.033872  497.809677  1.588706  307.364482  2.984589  0.290000   \n",
      "2  16.848129   97.404725  2.292832   19.797336  2.408287  0.395192   \n",
      "3  10.366293   33.328021  0.984545   23.738633  0.814232  0.200000   \n",
      "4  23.880953  143.246838  6.181451   51.158897  2.408287  0.200000   \n",
      "\n",
      "        IL_23    VEGF_D  \n",
      "0  204.310168  0.059000  \n",
      "1  497.809677  0.059000  \n",
      "2   97.404725  0.378840  \n",
      "3   33.328021  0.072519  \n",
      "4  143.246838  0.797476  \n",
      "\n",
      "[5 rows x 43 columns]\n"
     ]
    }
   ],
   "source": [
    "#Read csv file\n",
    "\n",
    "import pandas as pd\n",
    "\n",
    "master = pd.read_csv('csv files/10_23_2024_MASTER_MATRR_AllCohorts_Blood_hematology_biochemistry.csv')\n",
    "\n",
    "# Read the master file. If the CSV has a header row, pandas will use it.\n",
    "master_df =pd.read_csv('csv files/10_23_2024_MASTER_MATRR_AllCohorts_Blood_hematology_biochemistry.csv')\n",
    "\n",
    "# Read the biomarker crosstime points file\n",
    "biomarker_df = pd.read_csv(\"csv files/Biomarker Cross Timepoints.csv\")\n",
    "\n",
    "# Check the first few rows of each to verify they loaded correctly\n",
    "print(\"Master file:\")\n",
    "print(master_df.head(5))\n",
    "\n",
    "print(\"\\nBiomarker file:\")\n",
    "print(biomarker_df.head(5))"
   ]
  },
  {
   "cell_type": "code",
   "execution_count": 30,
   "metadata": {},
   "outputs": [
    {
     "name": "stdout",
     "output_type": "stream",
     "text": [
      "Index(['Species', 'Cohort', 'MATRR ID', 'Date of BC', 'Timepoint', 'State',\n",
      "       'TP:', 'ALB:', 'ALKP:', 'ALT:', 'AST:', 'GGT:', 'TBIL:', 'GLU:', 'BUN:',\n",
      "       'CREA:', 'K:', 'NA:', 'CL:', 'Ca:', 'PHOS:', 'Fe:', 'CHOL:', 'LDH:',\n",
      "       'TRIG:', 'A/G ratio:', 'DBIL:', 'Glob:', 'Amyl:', 'MG:', 'WBC:',\n",
      "       'NEUT%:', 'BAND%:', 'LY%', 'MONO%:', 'EOS%:', 'BASO%:', 'HCT:', 'HGB:',\n",
      "       'RBC:', 'MCV:', 'MCH:', 'MCHC:', 'PLT:', 'Unnamed: 44', 'Unnamed: 45'],\n",
      "      dtype='object')\n",
      "Index(['ID', 'Drinking Category', 'Species', 'Sex', 'Age', 'Cortisol', 'ACTH',\n",
      "       'Deoxycorticosterone', 'Aldosterone', 'DHEAS', 'Osteocalcin', 'CTX',\n",
      "       'FGF_basic', 'IL_1b', 'G_CSF', 'IL_10', 'IL_6', 'IL_12', 'RANTES',\n",
      "       'Eotaxin', 'IL_17', 'MIP_1a', 'GM_CSF', 'MIP_1b', 'MCP_1', 'IL_15',\n",
      "       'EGF', 'IL_5', 'HGF', 'VEGF', 'IFN_y', 'MDC', 'I_TAC', 'MIFAnalyte_46',\n",
      "       'IL_1RA', 'TNF_a', 'IL_2', 'IP_10', 'MIG', 'IL_4', 'IL_8', 'IL_23',\n",
      "       'VEGF_D'],\n",
      "      dtype='object')\n"
     ]
    }
   ],
   "source": [
    "print(master_df.columns)\n",
    "print(biomarker_df.columns)"
   ]
  },
  {
   "cell_type": "code",
   "execution_count": 34,
   "metadata": {},
   "outputs": [],
   "source": [
    "#iminamos la fila de biomarkers que es puro NaN\n",
    "biomarker_df = biomarker_df.dropna(how='all')"
   ]
  },
  {
   "cell_type": "code",
   "execution_count": 36,
   "metadata": {},
   "outputs": [
    {
     "name": "stderr",
     "output_type": "stream",
     "text": [
      "/var/folders/lm/n1zfybqd7rs45jrlmqm9g_5r0000gn/T/ipykernel_71231/1034665707.py:5: SettingWithCopyWarning: \n",
      "A value is trying to be set on a copy of a slice from a DataFrame.\n",
      "Try using .loc[row_indexer,col_indexer] = value instead\n",
      "\n",
      "See the caveats in the documentation: https://pandas.pydata.org/pandas-docs/stable/user_guide/indexing.html#returning-a-view-versus-a-copy\n",
      "  biomarker_df[\"ID\"] = biomarker_df[\"ID\"].astype(int).astype(str)\n"
     ]
    }
   ],
   "source": [
    "#We need to ensure both keys are strings to be able to use them as keys to merge our dataframes\n",
    "master_df[\"MATRR ID\"] = master_df[\"MATRR ID\"].astype(str)\n",
    "\n",
    "#We need to make the biomarker ID first be just an int not a float and theh a string\n",
    "biomarker_df[\"ID\"] = biomarker_df[\"ID\"].astype(int).astype(str)"
   ]
  },
  {
   "cell_type": "code",
   "execution_count": 37,
   "metadata": {},
   "outputs": [
    {
     "name": "stdout",
     "output_type": "stream",
     "text": [
      "Merged data:\n",
      "  Species_x Cohort MATRR ID  Date of BC      Timepoint    State  TP:  ALB:  \\\n",
      "0      cyno      2    10016   8/17/2005  pre-induction  sedated  7.4   NaN   \n",
      "1      cyno      2    10016    2/6/2006  H2O induction    awake  NaN   NaN   \n",
      "2      cyno      2    10016   3/27/2006  H2O induction  sedated    7   4.2   \n",
      "3      cyno      2    10016  10/26/2006  open access 1  sedated  7.9   4.6   \n",
      "4      cyno      2    10016   4/18/2007  open access 2  sedated    7   4.2   \n",
      "\n",
      "   ALKP:  ALT:  ...  MIFAnalyte_46  IL_1RA  TNF_a  IL_2  IP_10  MIG  IL_4  \\\n",
      "0    NaN   NaN  ...            NaN     NaN    NaN   NaN    NaN  NaN   NaN   \n",
      "1    NaN   NaN  ...            NaN     NaN    NaN   NaN    NaN  NaN   NaN   \n",
      "2  167.0  45.0  ...            NaN     NaN    NaN   NaN    NaN  NaN   NaN   \n",
      "3   84.0  37.0  ...            NaN     NaN    NaN   NaN    NaN  NaN   NaN   \n",
      "4  138.0  25.0  ...            NaN     NaN    NaN   NaN    NaN  NaN   NaN   \n",
      "\n",
      "   IL_8  IL_23 VEGF_D  \n",
      "0   NaN    NaN    NaN  \n",
      "1   NaN    NaN    NaN  \n",
      "2   NaN    NaN    NaN  \n",
      "3   NaN    NaN    NaN  \n",
      "4   NaN    NaN    NaN  \n",
      "\n",
      "[5 rows x 89 columns]\n"
     ]
    }
   ],
   "source": [
    "merged_df = pd.merge(master_df, biomarker_df, left_on=\"MATRR ID\", right_on=\"ID\", how=\"left\")\n",
    "\n",
    "\n",
    "# Now we check the merged dataframe\n",
    "print(\"Merged data:\")\n",
    "print(merged_df.head())"
   ]
  },
  {
   "cell_type": "code",
   "execution_count": 38,
   "metadata": {},
   "outputs": [
    {
     "name": "stdout",
     "output_type": "stream",
     "text": [
      "Merged CSV saved as 'merged.csv'\n"
     ]
    }
   ],
   "source": [
    "# Save the merged dataframe if needed\n",
    "merged_df.to_csv(\"csv files/merged.csv\", index=False)\n",
    "print(\"Merged CSV saved as 'merged.csv'\")"
   ]
  }
 ],
 "metadata": {
  "kernelspec": {
   "display_name": "Python 3",
   "language": "python",
   "name": "python3"
  },
  "language_info": {
   "codemirror_mode": {
    "name": "ipython",
    "version": 3
   },
   "file_extension": ".py",
   "mimetype": "text/x-python",
   "name": "python",
   "nbconvert_exporter": "python",
   "pygments_lexer": "ipython3",
   "version": "3.11.10"
  }
 },
 "nbformat": 4,
 "nbformat_minor": 2
}
